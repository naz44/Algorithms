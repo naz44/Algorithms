{
  "nbformat": 4,
  "nbformat_minor": 0,
  "metadata": {
    "colab": {
      "name": "DMCBP.ipynb",
      "provenance": [],
      "collapsed_sections": [],
      "authorship_tag": "ABX9TyOVaVcb5wvzLVTfG3hyW7jw",
      "include_colab_link": true
    },
    "kernelspec": {
      "name": "python3",
      "display_name": "Python 3"
    }
  },
  "cells": [
    {
      "cell_type": "markdown",
      "metadata": {
        "id": "view-in-github",
        "colab_type": "text"
      },
      "source": [
        "<a href=\"https://colab.research.google.com/github/naz44/Random-stuff/blob/master/DMCBP.ipynb\" target=\"_parent\"><img src=\"https://colab.research.google.com/assets/colab-badge.svg\" alt=\"Open In Colab\"/></a>"
      ]
    },
    {
      "cell_type": "markdown",
      "metadata": {
        "id": "PFgFHjY_fid-",
        "colab_type": "text"
      },
      "source": [
        "Crime rate prediction using python and Decision Trees Classifier"
      ]
    },
    {
      "cell_type": "code",
      "metadata": {
        "id": "GKOdD1OxjEtR",
        "colab_type": "code",
        "outputId": "6dc0d2ec-58b9-42cd-88fa-7c45d5494da3",
        "colab": {
          "base_uri": "https://localhost:8080/",
          "height": 34
        }
      },
      "source": [
        "pip  install scikit-learn==0.19.1"
      ],
      "execution_count": 0,
      "outputs": [
        {
          "output_type": "stream",
          "text": [
            "Requirement already satisfied: scikit-learn==0.19.1 in /usr/local/lib/python3.6/dist-packages (0.19.1)\n"
          ],
          "name": "stdout"
        }
      ]
    },
    {
      "cell_type": "code",
      "metadata": {
        "id": "v1zQzuaNfLTW",
        "colab_type": "code",
        "outputId": "324efae5-6525-4ed9-f441-799cadbecc15",
        "colab": {
          "base_uri": "https://localhost:8080/",
          "height": 70
        }
      },
      "source": [
        "import pandas as pd # panda's nickname is pd\n",
        "import numpy as np\n",
        "import sklearn.metrics as metrics\n",
        "from sklearn.tree import DecisionTreeClassifier, export_graphviz\n",
        "from sklearn import svm\n",
        "from sklearn.model_selection import cross_val_score\n",
        "from sklearn.linear_model import LogisticRegression\n",
        "from  sklearn.linear_model import LinearRegression\n",
        "from sklearn.naive_bayes import GaussianNB\n",
        "from sklearn.model_selection import validation_curve\n",
        "from sklearn.preprocessing import binarize\n",
        "import matplotlib.pyplot as plot\n",
        "from sklearn import linear_model\n",
        "from IPython.display import Image \n",
        "from sklearn.preprocessing import Imputer\n",
        "from sklearn.preprocessing import PolynomialFeatures\n",
        "from sklearn import tree\n",
        "import sklearn.preprocessing as prep\n",
        "import pydotplus \n",
        "import math\n",
        "from sklearn.linear_model import RidgeCV\n",
        "import sklearn.linear_model as linear_model\n",
        "from sklearn.model_selection import GridSearchCV\n",
        "from sklearn.ensemble import GradientBoostingClassifier\n",
        "from sklearn.ensemble import RandomForestClassifier\n",
        "import matplotlib.pyplot as plt"
      ],
      "execution_count": 0,
      "outputs": [
        {
          "output_type": "stream",
          "text": [
            "/usr/local/lib/python3.6/dist-packages/sklearn/ensemble/weight_boosting.py:29: DeprecationWarning: numpy.core.umath_tests is an internal NumPy module and should not be imported. It will be removed in a future NumPy release.\n",
            "  from numpy.core.umath_tests import inner1d\n"
          ],
          "name": "stderr"
        }
      ]
    },
    {
      "cell_type": "code",
      "metadata": {
        "id": "EbDVhIwef2Z-",
        "colab_type": "code",
        "outputId": "8791b3c5-ff30-4794-9633-3853d81d8fc6",
        "colab": {
          "base_uri": "https://localhost:8080/",
          "height": 244
        }
      },
      "source": [
        "communities_crime_df = pd.read_csv('communities-crime-clean.csv')\n",
        "# Sanity test we have good data\n",
        "communities_crime_df.head()"
      ],
      "execution_count": 0,
      "outputs": [
        {
          "output_type": "execute_result",
          "data": {
            "text/html": [
              "<div>\n",
              "<style scoped>\n",
              "    .dataframe tbody tr th:only-of-type {\n",
              "        vertical-align: middle;\n",
              "    }\n",
              "\n",
              "    .dataframe tbody tr th {\n",
              "        vertical-align: top;\n",
              "    }\n",
              "\n",
              "    .dataframe thead th {\n",
              "        text-align: right;\n",
              "    }\n",
              "</style>\n",
              "<table border=\"1\" class=\"dataframe\">\n",
              "  <thead>\n",
              "    <tr style=\"text-align: right;\">\n",
              "      <th></th>\n",
              "      <th>state</th>\n",
              "      <th>communityname</th>\n",
              "      <th>fold</th>\n",
              "      <th>population</th>\n",
              "      <th>householdsize</th>\n",
              "      <th>racepctblack</th>\n",
              "      <th>racePctWhite</th>\n",
              "      <th>racePctAsian</th>\n",
              "      <th>racePctHisp</th>\n",
              "      <th>agePct12t21</th>\n",
              "      <th>agePct12t29</th>\n",
              "      <th>agePct16t24</th>\n",
              "      <th>agePct65up</th>\n",
              "      <th>numbUrban</th>\n",
              "      <th>pctUrban</th>\n",
              "      <th>medIncome</th>\n",
              "      <th>pctWWage</th>\n",
              "      <th>pctWFarmSelf</th>\n",
              "      <th>pctWInvInc</th>\n",
              "      <th>pctWSocSec</th>\n",
              "      <th>pctWPubAsst</th>\n",
              "      <th>pctWRetire</th>\n",
              "      <th>medFamInc</th>\n",
              "      <th>perCapInc</th>\n",
              "      <th>whitePerCap</th>\n",
              "      <th>blackPerCap</th>\n",
              "      <th>indianPerCap</th>\n",
              "      <th>AsianPerCap</th>\n",
              "      <th>OtherPerCap</th>\n",
              "      <th>HispPerCap</th>\n",
              "      <th>NumUnderPov</th>\n",
              "      <th>PctPopUnderPov</th>\n",
              "      <th>PctLess9thGrade</th>\n",
              "      <th>PctNotHSGrad</th>\n",
              "      <th>PctBSorMore</th>\n",
              "      <th>PctUnemployed</th>\n",
              "      <th>PctEmploy</th>\n",
              "      <th>PctEmplManu</th>\n",
              "      <th>PctEmplProfServ</th>\n",
              "      <th>PctOccupManu</th>\n",
              "      <th>...</th>\n",
              "      <th>PctNotSpeakEnglWell</th>\n",
              "      <th>PctLargHouseFam</th>\n",
              "      <th>PctLargHouseOccup</th>\n",
              "      <th>PersPerOccupHous</th>\n",
              "      <th>PersPerOwnOccHous</th>\n",
              "      <th>PersPerRentOccHous</th>\n",
              "      <th>PctPersOwnOccup</th>\n",
              "      <th>PctPersDenseHous</th>\n",
              "      <th>PctHousLess3BR</th>\n",
              "      <th>MedNumBR</th>\n",
              "      <th>HousVacant</th>\n",
              "      <th>PctHousOccup</th>\n",
              "      <th>PctHousOwnOcc</th>\n",
              "      <th>PctVacantBoarded</th>\n",
              "      <th>PctVacMore6Mos</th>\n",
              "      <th>MedYrHousBuilt</th>\n",
              "      <th>PctHousNoPhone</th>\n",
              "      <th>PctWOFullPlumb</th>\n",
              "      <th>OwnOccLowQuart</th>\n",
              "      <th>OwnOccMedVal</th>\n",
              "      <th>OwnOccHiQuart</th>\n",
              "      <th>RentLowQ</th>\n",
              "      <th>RentMedian</th>\n",
              "      <th>RentHighQ</th>\n",
              "      <th>MedRent</th>\n",
              "      <th>MedRentPctHousInc</th>\n",
              "      <th>MedOwnCostPctInc</th>\n",
              "      <th>MedOwnCostPctIncNoMtg</th>\n",
              "      <th>NumInShelters</th>\n",
              "      <th>NumStreet</th>\n",
              "      <th>PctForeignBorn</th>\n",
              "      <th>PctBornSameState</th>\n",
              "      <th>PctSameHouse85</th>\n",
              "      <th>PctSameCity85</th>\n",
              "      <th>PctSameState85</th>\n",
              "      <th>LandArea</th>\n",
              "      <th>PopDens</th>\n",
              "      <th>PctUsePubTrans</th>\n",
              "      <th>LemasPctOfficDrugUn</th>\n",
              "      <th>ViolentCrimesPerPop</th>\n",
              "    </tr>\n",
              "  </thead>\n",
              "  <tbody>\n",
              "    <tr>\n",
              "      <th>0</th>\n",
              "      <td>1</td>\n",
              "      <td>Alabastercity</td>\n",
              "      <td>7</td>\n",
              "      <td>0.01</td>\n",
              "      <td>0.61</td>\n",
              "      <td>0.21</td>\n",
              "      <td>0.83</td>\n",
              "      <td>0.02</td>\n",
              "      <td>0.01</td>\n",
              "      <td>0.41</td>\n",
              "      <td>0.49</td>\n",
              "      <td>0.26</td>\n",
              "      <td>0.21</td>\n",
              "      <td>0.02</td>\n",
              "      <td>1.0</td>\n",
              "      <td>0.46</td>\n",
              "      <td>0.77</td>\n",
              "      <td>0.23</td>\n",
              "      <td>0.38</td>\n",
              "      <td>0.22</td>\n",
              "      <td>0.16</td>\n",
              "      <td>0.22</td>\n",
              "      <td>0.42</td>\n",
              "      <td>0.29</td>\n",
              "      <td>0.29</td>\n",
              "      <td>0.27</td>\n",
              "      <td>0.16</td>\n",
              "      <td>0.24</td>\n",
              "      <td>0.38</td>\n",
              "      <td>0.26</td>\n",
              "      <td>0.01</td>\n",
              "      <td>0.14</td>\n",
              "      <td>0.27</td>\n",
              "      <td>0.37</td>\n",
              "      <td>0.39</td>\n",
              "      <td>0.12</td>\n",
              "      <td>0.69</td>\n",
              "      <td>0.27</td>\n",
              "      <td>0.37</td>\n",
              "      <td>0.32</td>\n",
              "      <td>...</td>\n",
              "      <td>0.01</td>\n",
              "      <td>0.17</td>\n",
              "      <td>0.21</td>\n",
              "      <td>0.65</td>\n",
              "      <td>0.64</td>\n",
              "      <td>0.56</td>\n",
              "      <td>0.82</td>\n",
              "      <td>0.10</td>\n",
              "      <td>0.22</td>\n",
              "      <td>0.5</td>\n",
              "      <td>0.01</td>\n",
              "      <td>0.85</td>\n",
              "      <td>0.82</td>\n",
              "      <td>0.00</td>\n",
              "      <td>0.26</td>\n",
              "      <td>0.83</td>\n",
              "      <td>0.13</td>\n",
              "      <td>0.66</td>\n",
              "      <td>0.16</td>\n",
              "      <td>0.15</td>\n",
              "      <td>0.13</td>\n",
              "      <td>0.13</td>\n",
              "      <td>0.23</td>\n",
              "      <td>0.25</td>\n",
              "      <td>0.28</td>\n",
              "      <td>0.19</td>\n",
              "      <td>0.18</td>\n",
              "      <td>0.25</td>\n",
              "      <td>0.00</td>\n",
              "      <td>0.00</td>\n",
              "      <td>0.03</td>\n",
              "      <td>0.70</td>\n",
              "      <td>0.40</td>\n",
              "      <td>0.34</td>\n",
              "      <td>0.57</td>\n",
              "      <td>0.05</td>\n",
              "      <td>0.06</td>\n",
              "      <td>0.01</td>\n",
              "      <td>0.0</td>\n",
              "      <td>0.06</td>\n",
              "    </tr>\n",
              "    <tr>\n",
              "      <th>1</th>\n",
              "      <td>1</td>\n",
              "      <td>AlexanderCitycity</td>\n",
              "      <td>10</td>\n",
              "      <td>0.01</td>\n",
              "      <td>0.41</td>\n",
              "      <td>0.55</td>\n",
              "      <td>0.57</td>\n",
              "      <td>0.01</td>\n",
              "      <td>0.00</td>\n",
              "      <td>0.47</td>\n",
              "      <td>0.45</td>\n",
              "      <td>0.31</td>\n",
              "      <td>0.57</td>\n",
              "      <td>0.00</td>\n",
              "      <td>0.0</td>\n",
              "      <td>0.15</td>\n",
              "      <td>0.33</td>\n",
              "      <td>0.13</td>\n",
              "      <td>0.27</td>\n",
              "      <td>0.65</td>\n",
              "      <td>0.41</td>\n",
              "      <td>0.45</td>\n",
              "      <td>0.21</td>\n",
              "      <td>0.22</td>\n",
              "      <td>0.29</td>\n",
              "      <td>0.15</td>\n",
              "      <td>0.00</td>\n",
              "      <td>0.29</td>\n",
              "      <td>0.00</td>\n",
              "      <td>0.14</td>\n",
              "      <td>0.02</td>\n",
              "      <td>0.45</td>\n",
              "      <td>0.57</td>\n",
              "      <td>0.70</td>\n",
              "      <td>0.21</td>\n",
              "      <td>0.27</td>\n",
              "      <td>0.43</td>\n",
              "      <td>1.00</td>\n",
              "      <td>0.17</td>\n",
              "      <td>0.93</td>\n",
              "      <td>...</td>\n",
              "      <td>0.02</td>\n",
              "      <td>0.19</td>\n",
              "      <td>0.18</td>\n",
              "      <td>0.43</td>\n",
              "      <td>0.43</td>\n",
              "      <td>0.42</td>\n",
              "      <td>0.58</td>\n",
              "      <td>0.17</td>\n",
              "      <td>0.46</td>\n",
              "      <td>0.5</td>\n",
              "      <td>0.02</td>\n",
              "      <td>0.73</td>\n",
              "      <td>0.58</td>\n",
              "      <td>0.18</td>\n",
              "      <td>0.40</td>\n",
              "      <td>0.56</td>\n",
              "      <td>0.55</td>\n",
              "      <td>0.48</td>\n",
              "      <td>0.06</td>\n",
              "      <td>0.06</td>\n",
              "      <td>0.08</td>\n",
              "      <td>0.02</td>\n",
              "      <td>0.07</td>\n",
              "      <td>0.08</td>\n",
              "      <td>0.09</td>\n",
              "      <td>0.20</td>\n",
              "      <td>0.16</td>\n",
              "      <td>0.36</td>\n",
              "      <td>0.00</td>\n",
              "      <td>0.00</td>\n",
              "      <td>0.00</td>\n",
              "      <td>0.93</td>\n",
              "      <td>0.66</td>\n",
              "      <td>0.82</td>\n",
              "      <td>0.84</td>\n",
              "      <td>0.11</td>\n",
              "      <td>0.03</td>\n",
              "      <td>0.01</td>\n",
              "      <td>0.0</td>\n",
              "      <td>0.14</td>\n",
              "    </tr>\n",
              "    <tr>\n",
              "      <th>2</th>\n",
              "      <td>1</td>\n",
              "      <td>Annistoncity</td>\n",
              "      <td>3</td>\n",
              "      <td>0.03</td>\n",
              "      <td>0.34</td>\n",
              "      <td>0.86</td>\n",
              "      <td>0.30</td>\n",
              "      <td>0.04</td>\n",
              "      <td>0.01</td>\n",
              "      <td>0.41</td>\n",
              "      <td>0.42</td>\n",
              "      <td>0.27</td>\n",
              "      <td>0.59</td>\n",
              "      <td>0.04</td>\n",
              "      <td>1.0</td>\n",
              "      <td>0.12</td>\n",
              "      <td>0.32</td>\n",
              "      <td>0.19</td>\n",
              "      <td>0.28</td>\n",
              "      <td>0.67</td>\n",
              "      <td>0.52</td>\n",
              "      <td>0.57</td>\n",
              "      <td>0.18</td>\n",
              "      <td>0.21</td>\n",
              "      <td>0.35</td>\n",
              "      <td>0.15</td>\n",
              "      <td>0.26</td>\n",
              "      <td>0.18</td>\n",
              "      <td>0.84</td>\n",
              "      <td>0.33</td>\n",
              "      <td>0.06</td>\n",
              "      <td>0.65</td>\n",
              "      <td>0.48</td>\n",
              "      <td>0.58</td>\n",
              "      <td>0.28</td>\n",
              "      <td>0.79</td>\n",
              "      <td>0.22</td>\n",
              "      <td>0.44</td>\n",
              "      <td>0.43</td>\n",
              "      <td>0.54</td>\n",
              "      <td>...</td>\n",
              "      <td>0.02</td>\n",
              "      <td>0.25</td>\n",
              "      <td>0.22</td>\n",
              "      <td>0.36</td>\n",
              "      <td>0.34</td>\n",
              "      <td>0.41</td>\n",
              "      <td>0.50</td>\n",
              "      <td>0.13</td>\n",
              "      <td>0.51</td>\n",
              "      <td>0.5</td>\n",
              "      <td>0.07</td>\n",
              "      <td>0.56</td>\n",
              "      <td>0.52</td>\n",
              "      <td>0.31</td>\n",
              "      <td>0.60</td>\n",
              "      <td>0.40</td>\n",
              "      <td>0.55</td>\n",
              "      <td>0.33</td>\n",
              "      <td>0.05</td>\n",
              "      <td>0.07</td>\n",
              "      <td>0.09</td>\n",
              "      <td>0.02</td>\n",
              "      <td>0.09</td>\n",
              "      <td>0.13</td>\n",
              "      <td>0.13</td>\n",
              "      <td>0.41</td>\n",
              "      <td>0.38</td>\n",
              "      <td>0.47</td>\n",
              "      <td>0.01</td>\n",
              "      <td>0.02</td>\n",
              "      <td>0.04</td>\n",
              "      <td>0.77</td>\n",
              "      <td>0.59</td>\n",
              "      <td>0.70</td>\n",
              "      <td>0.64</td>\n",
              "      <td>0.06</td>\n",
              "      <td>0.11</td>\n",
              "      <td>0.04</td>\n",
              "      <td>0.0</td>\n",
              "      <td>1.00</td>\n",
              "    </tr>\n",
              "    <tr>\n",
              "      <th>3</th>\n",
              "      <td>1</td>\n",
              "      <td>Athenscity</td>\n",
              "      <td>8</td>\n",
              "      <td>0.01</td>\n",
              "      <td>0.38</td>\n",
              "      <td>0.35</td>\n",
              "      <td>0.71</td>\n",
              "      <td>0.04</td>\n",
              "      <td>0.01</td>\n",
              "      <td>0.39</td>\n",
              "      <td>0.46</td>\n",
              "      <td>0.31</td>\n",
              "      <td>0.49</td>\n",
              "      <td>0.00</td>\n",
              "      <td>0.0</td>\n",
              "      <td>0.23</td>\n",
              "      <td>0.43</td>\n",
              "      <td>0.48</td>\n",
              "      <td>0.36</td>\n",
              "      <td>0.53</td>\n",
              "      <td>0.41</td>\n",
              "      <td>0.44</td>\n",
              "      <td>0.29</td>\n",
              "      <td>0.27</td>\n",
              "      <td>0.30</td>\n",
              "      <td>0.18</td>\n",
              "      <td>0.19</td>\n",
              "      <td>0.20</td>\n",
              "      <td>0.00</td>\n",
              "      <td>0.80</td>\n",
              "      <td>0.02</td>\n",
              "      <td>0.38</td>\n",
              "      <td>0.51</td>\n",
              "      <td>0.59</td>\n",
              "      <td>0.32</td>\n",
              "      <td>0.37</td>\n",
              "      <td>0.43</td>\n",
              "      <td>0.64</td>\n",
              "      <td>0.30</td>\n",
              "      <td>0.52</td>\n",
              "      <td>...</td>\n",
              "      <td>0.02</td>\n",
              "      <td>0.19</td>\n",
              "      <td>0.18</td>\n",
              "      <td>0.38</td>\n",
              "      <td>0.43</td>\n",
              "      <td>0.32</td>\n",
              "      <td>0.58</td>\n",
              "      <td>0.12</td>\n",
              "      <td>0.45</td>\n",
              "      <td>0.5</td>\n",
              "      <td>0.03</td>\n",
              "      <td>0.66</td>\n",
              "      <td>0.55</td>\n",
              "      <td>0.18</td>\n",
              "      <td>0.26</td>\n",
              "      <td>0.58</td>\n",
              "      <td>0.42</td>\n",
              "      <td>0.41</td>\n",
              "      <td>0.10</td>\n",
              "      <td>0.10</td>\n",
              "      <td>0.12</td>\n",
              "      <td>0.08</td>\n",
              "      <td>0.14</td>\n",
              "      <td>0.15</td>\n",
              "      <td>0.15</td>\n",
              "      <td>0.24</td>\n",
              "      <td>0.17</td>\n",
              "      <td>0.33</td>\n",
              "      <td>0.00</td>\n",
              "      <td>0.00</td>\n",
              "      <td>0.03</td>\n",
              "      <td>0.78</td>\n",
              "      <td>0.56</td>\n",
              "      <td>0.67</td>\n",
              "      <td>0.71</td>\n",
              "      <td>0.09</td>\n",
              "      <td>0.05</td>\n",
              "      <td>0.00</td>\n",
              "      <td>0.0</td>\n",
              "      <td>0.23</td>\n",
              "    </tr>\n",
              "    <tr>\n",
              "      <th>4</th>\n",
              "      <td>1</td>\n",
              "      <td>Auburncity</td>\n",
              "      <td>1</td>\n",
              "      <td>0.04</td>\n",
              "      <td>0.37</td>\n",
              "      <td>0.32</td>\n",
              "      <td>0.70</td>\n",
              "      <td>0.21</td>\n",
              "      <td>0.02</td>\n",
              "      <td>1.00</td>\n",
              "      <td>1.00</td>\n",
              "      <td>1.00</td>\n",
              "      <td>0.14</td>\n",
              "      <td>0.05</td>\n",
              "      <td>1.0</td>\n",
              "      <td>0.02</td>\n",
              "      <td>0.77</td>\n",
              "      <td>0.57</td>\n",
              "      <td>0.47</td>\n",
              "      <td>0.13</td>\n",
              "      <td>0.11</td>\n",
              "      <td>0.16</td>\n",
              "      <td>0.32</td>\n",
              "      <td>0.17</td>\n",
              "      <td>0.19</td>\n",
              "      <td>0.16</td>\n",
              "      <td>0.07</td>\n",
              "      <td>0.21</td>\n",
              "      <td>0.14</td>\n",
              "      <td>0.22</td>\n",
              "      <td>0.11</td>\n",
              "      <td>1.00</td>\n",
              "      <td>0.18</td>\n",
              "      <td>0.18</td>\n",
              "      <td>0.82</td>\n",
              "      <td>0.42</td>\n",
              "      <td>0.23</td>\n",
              "      <td>0.19</td>\n",
              "      <td>1.00</td>\n",
              "      <td>0.25</td>\n",
              "      <td>...</td>\n",
              "      <td>0.05</td>\n",
              "      <td>0.14</td>\n",
              "      <td>0.07</td>\n",
              "      <td>0.25</td>\n",
              "      <td>0.41</td>\n",
              "      <td>0.22</td>\n",
              "      <td>0.24</td>\n",
              "      <td>0.14</td>\n",
              "      <td>0.71</td>\n",
              "      <td>0.0</td>\n",
              "      <td>0.06</td>\n",
              "      <td>0.66</td>\n",
              "      <td>0.21</td>\n",
              "      <td>0.07</td>\n",
              "      <td>0.24</td>\n",
              "      <td>0.77</td>\n",
              "      <td>0.27</td>\n",
              "      <td>0.10</td>\n",
              "      <td>0.16</td>\n",
              "      <td>0.16</td>\n",
              "      <td>0.18</td>\n",
              "      <td>0.18</td>\n",
              "      <td>0.21</td>\n",
              "      <td>0.26</td>\n",
              "      <td>0.21</td>\n",
              "      <td>1.00</td>\n",
              "      <td>0.16</td>\n",
              "      <td>0.24</td>\n",
              "      <td>0.00</td>\n",
              "      <td>0.00</td>\n",
              "      <td>0.12</td>\n",
              "      <td>0.49</td>\n",
              "      <td>0.12</td>\n",
              "      <td>0.00</td>\n",
              "      <td>0.15</td>\n",
              "      <td>0.09</td>\n",
              "      <td>0.09</td>\n",
              "      <td>0.01</td>\n",
              "      <td>0.0</td>\n",
              "      <td>0.15</td>\n",
              "    </tr>\n",
              "  </tbody>\n",
              "</table>\n",
              "<p>5 rows × 104 columns</p>\n",
              "</div>"
            ],
            "text/plain": [
              "   state      communityname  ...  LemasPctOfficDrugUn  ViolentCrimesPerPop\n",
              "0      1      Alabastercity  ...                  0.0                 0.06\n",
              "1      1  AlexanderCitycity  ...                  0.0                 0.14\n",
              "2      1       Annistoncity  ...                  0.0                 1.00\n",
              "3      1         Athenscity  ...                  0.0                 0.23\n",
              "4      1         Auburncity  ...                  0.0                 0.15\n",
              "\n",
              "[5 rows x 104 columns]"
            ]
          },
          "metadata": {
            "tags": []
          },
          "execution_count": 16
        }
      ]
    },
    {
      "cell_type": "markdown",
      "metadata": {
        "id": "13gA2a5IgAWt",
        "colab_type": "text"
      },
      "source": [
        "Create a new field “highCrime” which is true if the crime rate per capita (ViolentCrimesPerPop) is greater than 0.1, and false otherwise"
      ]
    },
    {
      "cell_type": "code",
      "metadata": {
        "id": "aO4IIAKZf4cV",
        "colab_type": "code",
        "outputId": "2b75d5c2-e481-4013-a546-edcf1fa6659a",
        "colab": {
          "base_uri": "https://localhost:8080/",
          "height": 101
        }
      },
      "source": [
        "def setHighCrime(df):\n",
        "    '''Function to set value of highCrime depending on ViolentCrimesPerPop'''\n",
        "    if df['ViolentCrimesPerPop'] > 0.1:\n",
        "        return True\n",
        "    else:\n",
        "        return False\n",
        "    \n",
        "# Adding a new field \"highCrime\"\n",
        "communities_crime_df['highCrime'] = communities_crime_df.apply(setHighCrime, axis=1)\n",
        "\n",
        "# Calculating the percentage of positive and negative instances in the dataset\n",
        "percentage_intances = communities_crime_df.groupby('highCrime').size() * 100 / len(communities_crime_df)\n",
        "print(percentage_intances)\n",
        "print(\"------------------\")"
      ],
      "execution_count": 0,
      "outputs": [
        {
          "output_type": "stream",
          "text": [
            "highCrime\n",
            "False    37.280482\n",
            "True     62.719518\n",
            "dtype: float64\n",
            "------------------\n"
          ],
          "name": "stdout"
        }
      ]
    },
    {
      "cell_type": "code",
      "metadata": {
        "id": "IQld6ZnsgNFy",
        "colab_type": "code",
        "outputId": "837c277c-9ddc-4444-fef0-56263af53f1f",
        "colab": {
          "base_uri": "https://localhost:8080/",
          "height": 34
        }
      },
      "source": [
        "#Dropping non-predictive fields as well as ViolentCrimesPerPop field \n",
        "X = communities_crime_df.drop('ViolentCrimesPerPop', axis=1).drop('state', axis=1).drop('communityname', axis=1).drop('fold', axis=1).drop('highCrime', axis=1)\n",
        "features = list(X.columns)\n",
        "y = communities_crime_df[\"highCrime\"]\n",
        "\n",
        "\n",
        "# First, we tried by not defining the max depth\n",
        "dt_clf = DecisionTreeClassifier()\n",
        "dt_clf.fit(X,y)\n",
        "predicted = dt_clf.predict(X[features])\n",
        "recall_score = metrics.recall_score(communities_crime_df['highCrime'], predicted)\n",
        "precision_score = metrics.precision_score(communities_crime_df['highCrime'], predicted)\n",
        "accuracy_score = metrics.accuracy_score(communities_crime_df['highCrime'], predicted)\n",
        "print(\"Training Accuracy = {} Precision = {} Recall = {}\".format(accuracy_score,precision_score,recall_score))"
      ],
      "execution_count": 0,
      "outputs": [
        {
          "output_type": "stream",
          "text": [
            "Training Accuracy = 1.0 Precision = 1.0 Recall = 1.0\n"
          ],
          "name": "stdout"
        }
      ]
    },
    {
      "cell_type": "code",
      "metadata": {
        "id": "UfOcIkrQguuR",
        "colab_type": "code",
        "outputId": "3dd0952c-f5bb-4df0-cbcc-d172b2c1f32d",
        "colab": {
          "base_uri": "https://localhost:8080/",
          "height": 168
        }
      },
      "source": [
        "for depth in range(1,10):\n",
        "    tree_clf = DecisionTreeClassifier(max_depth=depth, random_state=0)\n",
        "    if tree_clf.fit(X,y).tree_.max_depth < depth:\n",
        "        break\n",
        "    score = np.mean(cross_val_score(tree_clf, X, y,scoring='accuracy', cv=10, n_jobs=1))\n",
        "    print(\"Depth: %i Accuracy: %.3f\" % (depth,score))"
      ],
      "execution_count": 0,
      "outputs": [
        {
          "output_type": "stream",
          "text": [
            "Depth: 1 Accuracy: 0.761\n",
            "Depth: 2 Accuracy: 0.776\n",
            "Depth: 3 Accuracy: 0.798\n",
            "Depth: 4 Accuracy: 0.790\n",
            "Depth: 5 Accuracy: 0.779\n",
            "Depth: 6 Accuracy: 0.768\n",
            "Depth: 7 Accuracy: 0.763\n",
            "Depth: 8 Accuracy: 0.746\n",
            "Depth: 9 Accuracy: 0.744\n"
          ],
          "name": "stdout"
        }
      ]
    },
    {
      "cell_type": "code",
      "metadata": {
        "id": "XkhbqC_KgvyF",
        "colab_type": "code",
        "outputId": "4ad2a295-d598-4e2e-8f92-a6ecaceb1618",
        "colab": {
          "base_uri": "https://localhost:8080/",
          "height": 67
        }
      },
      "source": [
        "dt_clf = DecisionTreeClassifier(max_depth=3)\n",
        "dt_clf.fit(X,y)\n",
        "#Predicting \n",
        "pred_dt= dt_clf.predict(X)\n",
        "dt_accuracy= metrics.accuracy_score(communities_crime_df['highCrime'], pred_dt)\n",
        "dt_precision= metrics.precision_score(communities_crime_df['highCrime'], pred_dt)\n",
        "dt_recall= metrics.recall_score(communities_crime_df['highCrime'], pred_dt)\n",
        "print(\"Accuracy for DT =\",dt_accuracy)\n",
        "print(\"Precision for DT =\",dt_precision)\n",
        "print(\"Recall for DT =\",dt_precision)"
      ],
      "execution_count": 0,
      "outputs": [
        {
          "output_type": "stream",
          "text": [
            "Accuracy for DT = 0.8359257400903161\n",
            "Precision for DT = 0.9002601908065915\n",
            "Recall for DT = 0.9002601908065915\n"
          ],
          "name": "stdout"
        }
      ]
    },
    {
      "cell_type": "markdown",
      "metadata": {
        "id": "mxjzUx6_hJnU",
        "colab_type": "text"
      },
      "source": [
        "Main Features of classification:"
      ]
    },
    {
      "cell_type": "code",
      "metadata": {
        "id": "5lm1fpaGhSEM",
        "colab_type": "code",
        "outputId": "32b89b99-5887-4961-bdb9-5eaef9f34742",
        "colab": {
          "base_uri": "https://localhost:8080/",
          "height": 534
        }
      },
      "source": [
        "dot_data = tree.export_graphviz(dt_clf, out_file=None,feature_names=list(X))\n",
        "\n",
        "graph = pydotplus.graph_from_dot_data(dot_data)  \n",
        "Image(graph.create_png())"
      ],
      "execution_count": 0,
      "outputs": [
        {
          "output_type": "execute_result",
          "data": {
            "image/png": "[encoded data removed]",
            "text/plain": [
              "<IPython.core.display.Image object>"
            ]
          },
          "metadata": {
            "tags": []
          },
          "execution_count": 29
        }
      ]
    },
    {
      "cell_type": "code",
      "metadata": {
        "id": "oRX-DUsQhVTy",
        "colab_type": "code",
        "outputId": "06266f7b-6b35-4632-86b1-420c800ea5ff",
        "colab": {
          "base_uri": "https://localhost:8080/",
          "height": 134
        }
      },
      "source": [
        "\n",
        "# We can check the main features used for classification by checking the feature importance, the higher the value,\n",
        "# more important the feature would be.\n",
        "# We can sort the importance scores in descending order and take the top most.\n",
        "importances=dt_clf.feature_importances_\n",
        "indices = np.argsort(importances)[::-1]\n",
        "# Print the feature ranking\n",
        "print(\"Feature ranking:\")\n",
        "# We have taken the top 5 feature \n",
        "print(\"The main features used for classification\")\n",
        "print(X.columns[indices[:5]])\n",
        "print(\"Top main feature is\",X.columns[indices[:1]][0])"
      ],
      "execution_count": 0,
      "outputs": [
        {
          "output_type": "stream",
          "text": [
            "Feature ranking:\n",
            "The main features used for classification\n",
            "Index(['PctKids2Par', 'racePctWhite', 'racePctHisp', 'HousVacant',\n",
            "       'LemasPctOfficDrugUn'],\n",
            "      dtype='object')\n",
            "Top main feature is PctKids2Par\n",
            "ERROR! Session/line number was not unique in database. History logging moved to new session 61\n"
          ],
          "name": "stdout"
        }
      ]
    },
    {
      "cell_type": "markdown",
      "metadata": {
        "id": "3tdMLQpXhiBw",
        "colab_type": "text"
      },
      "source": [
        "As we have seen that the accuracy is less,so we are using cross validation to increase accuracy"
      ]
    },
    {
      "cell_type": "code",
      "metadata": {
        "id": "9oyhOJbKhc69",
        "colab_type": "code",
        "outputId": "93718bdc-7396-4005-b27f-1e1f35729918",
        "colab": {
          "base_uri": "https://localhost:8080/",
          "height": 67
        }
      },
      "source": [
        "dt_cv_accuracy = cross_val_score(dt_clf, X, y, cv=10).mean()\n",
        "dt_cv_precision= cross_val_score(dt_clf, X, y, cv=10, scoring='precision').mean()\n",
        "dt_cv_recall = cross_val_score(dt_clf, X, y, cv=10, scoring='recall').mean()\n",
        "print(\"Cross Validation Accuracy DT:\", dt_cv_accuracy)\n",
        "print(\"Cross Validation Recall DT:\", dt_cv_precision)\n",
        "print(\"Cross Validation Precision DT:\", dt_cv_recall)"
      ],
      "execution_count": 0,
      "outputs": [
        {
          "output_type": "stream",
          "text": [
            "Cross Validation Accuracy DT: 0.7982437185929648\n",
            "Cross Validation Recall DT: 0.8432674799594686\n",
            "Cross Validation Precision DT: 0.8392\n"
          ],
          "name": "stdout"
        }
      ]
    },
    {
      "cell_type": "markdown",
      "metadata": {
        "id": "wuWzLxvehtX3",
        "colab_type": "text"
      },
      "source": [
        "We use cross-validation to get a better estimate of the generalization error on new unseen data where as the common problem that is in Decision trees is overfitting, in which many training examples are fitting the training data perfectly or nearly perfectly which leads to an overly specific model and lower performance. Thus, we contrained the tree to include only up to three levels, since a simple tree is more general. Thus, the results obtained after specifying are more realistic. These results are different from cross validation results as the train and test data are different in cross validation on the other hand DT train on all the exmaples."
      ]
    }
  ]
}